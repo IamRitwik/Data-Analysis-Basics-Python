{
 "cells": [
  {
   "cell_type": "code",
   "execution_count": 2,
   "id": "165cb1d7-6164-48c2-a9c4-af447ff5ecd0",
   "metadata": {},
   "outputs": [],
   "source": [
    "import pandas as pd"
   ]
  },
  {
   "cell_type": "code",
   "execution_count": 6,
   "id": "7843d372-4a83-4243-b328-143d6351f243",
   "metadata": {},
   "outputs": [],
   "source": [
    "import matplotlib as plot"
   ]
  },
  {
   "cell_type": "code",
   "execution_count": 8,
   "id": "0e5b334e-176a-48d1-9e7e-82def85ab168",
   "metadata": {
    "editable": true,
    "slideshow": {
     "slide_type": ""
    },
    "tags": []
   },
   "outputs": [],
   "source": [
    "df = pd.read_csv(\"data_small/TG_STAID000001.txt\", skiprows=20, parse_dates=[\"    DATE\"])"
   ]
  },
  {
   "cell_type": "code",
   "execution_count": 10,
   "id": "97587715-0b51-468e-bcfb-701c970956f4",
   "metadata": {},
   "outputs": [
    {
     "data": {
      "text/html": [
       "<div>\n",
       "<style scoped>\n",
       "    .dataframe tbody tr th:only-of-type {\n",
       "        vertical-align: middle;\n",
       "    }\n",
       "\n",
       "    .dataframe tbody tr th {\n",
       "        vertical-align: top;\n",
       "    }\n",
       "\n",
       "    .dataframe thead th {\n",
       "        text-align: right;\n",
       "    }\n",
       "</style>\n",
       "<table border=\"1\" class=\"dataframe\">\n",
       "  <thead>\n",
       "    <tr style=\"text-align: right;\">\n",
       "      <th></th>\n",
       "      <th>STAID</th>\n",
       "      <th>SOUID</th>\n",
       "      <th>DATE</th>\n",
       "      <th>TG</th>\n",
       "      <th>Q_TG</th>\n",
       "    </tr>\n",
       "  </thead>\n",
       "  <tbody>\n",
       "    <tr>\n",
       "      <th>0</th>\n",
       "      <td>1</td>\n",
       "      <td>35381</td>\n",
       "      <td>1860-01-01</td>\n",
       "      <td>21</td>\n",
       "      <td>0</td>\n",
       "    </tr>\n",
       "    <tr>\n",
       "      <th>1</th>\n",
       "      <td>1</td>\n",
       "      <td>35381</td>\n",
       "      <td>1860-01-02</td>\n",
       "      <td>46</td>\n",
       "      <td>0</td>\n",
       "    </tr>\n",
       "    <tr>\n",
       "      <th>2</th>\n",
       "      <td>1</td>\n",
       "      <td>35381</td>\n",
       "      <td>1860-01-03</td>\n",
       "      <td>31</td>\n",
       "      <td>0</td>\n",
       "    </tr>\n",
       "    <tr>\n",
       "      <th>3</th>\n",
       "      <td>1</td>\n",
       "      <td>35381</td>\n",
       "      <td>1860-01-04</td>\n",
       "      <td>37</td>\n",
       "      <td>0</td>\n",
       "    </tr>\n",
       "    <tr>\n",
       "      <th>4</th>\n",
       "      <td>1</td>\n",
       "      <td>35381</td>\n",
       "      <td>1860-01-05</td>\n",
       "      <td>31</td>\n",
       "      <td>0</td>\n",
       "    </tr>\n",
       "    <tr>\n",
       "      <th>5</th>\n",
       "      <td>1</td>\n",
       "      <td>35381</td>\n",
       "      <td>1860-01-06</td>\n",
       "      <td>16</td>\n",
       "      <td>0</td>\n",
       "    </tr>\n",
       "    <tr>\n",
       "      <th>6</th>\n",
       "      <td>1</td>\n",
       "      <td>35381</td>\n",
       "      <td>1860-01-07</td>\n",
       "      <td>5</td>\n",
       "      <td>0</td>\n",
       "    </tr>\n",
       "    <tr>\n",
       "      <th>7</th>\n",
       "      <td>1</td>\n",
       "      <td>35381</td>\n",
       "      <td>1860-01-08</td>\n",
       "      <td>-27</td>\n",
       "      <td>0</td>\n",
       "    </tr>\n",
       "    <tr>\n",
       "      <th>8</th>\n",
       "      <td>1</td>\n",
       "      <td>35381</td>\n",
       "      <td>1860-01-09</td>\n",
       "      <td>-4</td>\n",
       "      <td>0</td>\n",
       "    </tr>\n",
       "    <tr>\n",
       "      <th>9</th>\n",
       "      <td>1</td>\n",
       "      <td>35381</td>\n",
       "      <td>1860-01-10</td>\n",
       "      <td>-17</td>\n",
       "      <td>0</td>\n",
       "    </tr>\n",
       "  </tbody>\n",
       "</table>\n",
       "</div>"
      ],
      "text/plain": [
       "   STAID   SOUID       DATE     TG   Q_TG\n",
       "0      1   35381 1860-01-01     21      0\n",
       "1      1   35381 1860-01-02     46      0\n",
       "2      1   35381 1860-01-03     31      0\n",
       "3      1   35381 1860-01-04     37      0\n",
       "4      1   35381 1860-01-05     31      0\n",
       "5      1   35381 1860-01-06     16      0\n",
       "6      1   35381 1860-01-07      5      0\n",
       "7      1   35381 1860-01-08    -27      0\n",
       "8      1   35381 1860-01-09     -4      0\n",
       "9      1   35381 1860-01-10    -17      0"
      ]
     },
     "execution_count": 10,
     "metadata": {},
     "output_type": "execute_result"
    }
   ],
   "source": [
    "df[0:10]"
   ]
  },
  {
   "cell_type": "code",
   "execution_count": null,
   "id": "fecf37d7-604f-48bd-b87d-928f2f673992",
   "metadata": {
    "editable": true,
    "slideshow": {
     "slide_type": ""
    },
    "tags": []
   },
   "outputs": [],
   "source": [
    "#Show certail columns"
   ]
  },
  {
   "cell_type": "code",
   "execution_count": 11,
   "id": "57163cb5-61f1-447a-82c9-248743a249d1",
   "metadata": {},
   "outputs": [
    {
     "data": {
      "text/plain": [
       "Index(['STAID', ' SOUID', '    DATE', '   TG', ' Q_TG'], dtype='object')"
      ]
     },
     "execution_count": 11,
     "metadata": {},
     "output_type": "execute_result"
    }
   ],
   "source": [
    "df.columns"
   ]
  },
  {
   "cell_type": "code",
   "execution_count": 12,
   "id": "7f230b4b-5485-4be1-8bf4-3555dd91fe05",
   "metadata": {},
   "outputs": [
    {
     "data": {
      "text/plain": [
       "0       1860-01-01\n",
       "1       1860-01-02\n",
       "2       1860-01-03\n",
       "3       1860-01-04\n",
       "4       1860-01-05\n",
       "           ...    \n",
       "59316   2022-05-27\n",
       "59317   2022-05-28\n",
       "59318   2022-05-29\n",
       "59319   2022-05-30\n",
       "59320   2022-05-31\n",
       "Name:     DATE, Length: 59321, dtype: datetime64[ns]"
      ]
     },
     "execution_count": 12,
     "metadata": {},
     "output_type": "execute_result"
    }
   ],
   "source": [
    "df['    DATE']"
   ]
  },
  {
   "cell_type": "code",
   "execution_count": 13,
   "id": "bd04e9ce-27ea-4521-a4b5-c15bdc73584e",
   "metadata": {},
   "outputs": [
    {
     "data": {
      "text/html": [
       "<div>\n",
       "<style scoped>\n",
       "    .dataframe tbody tr th:only-of-type {\n",
       "        vertical-align: middle;\n",
       "    }\n",
       "\n",
       "    .dataframe tbody tr th {\n",
       "        vertical-align: top;\n",
       "    }\n",
       "\n",
       "    .dataframe thead th {\n",
       "        text-align: right;\n",
       "    }\n",
       "</style>\n",
       "<table border=\"1\" class=\"dataframe\">\n",
       "  <thead>\n",
       "    <tr style=\"text-align: right;\">\n",
       "      <th></th>\n",
       "      <th>DATE</th>\n",
       "      <th>TG</th>\n",
       "    </tr>\n",
       "  </thead>\n",
       "  <tbody>\n",
       "    <tr>\n",
       "      <th>0</th>\n",
       "      <td>1860-01-01</td>\n",
       "      <td>21</td>\n",
       "    </tr>\n",
       "    <tr>\n",
       "      <th>1</th>\n",
       "      <td>1860-01-02</td>\n",
       "      <td>46</td>\n",
       "    </tr>\n",
       "    <tr>\n",
       "      <th>2</th>\n",
       "      <td>1860-01-03</td>\n",
       "      <td>31</td>\n",
       "    </tr>\n",
       "    <tr>\n",
       "      <th>3</th>\n",
       "      <td>1860-01-04</td>\n",
       "      <td>37</td>\n",
       "    </tr>\n",
       "    <tr>\n",
       "      <th>4</th>\n",
       "      <td>1860-01-05</td>\n",
       "      <td>31</td>\n",
       "    </tr>\n",
       "    <tr>\n",
       "      <th>...</th>\n",
       "      <td>...</td>\n",
       "      <td>...</td>\n",
       "    </tr>\n",
       "    <tr>\n",
       "      <th>59316</th>\n",
       "      <td>2022-05-27</td>\n",
       "      <td>-9999</td>\n",
       "    </tr>\n",
       "    <tr>\n",
       "      <th>59317</th>\n",
       "      <td>2022-05-28</td>\n",
       "      <td>-9999</td>\n",
       "    </tr>\n",
       "    <tr>\n",
       "      <th>59318</th>\n",
       "      <td>2022-05-29</td>\n",
       "      <td>-9999</td>\n",
       "    </tr>\n",
       "    <tr>\n",
       "      <th>59319</th>\n",
       "      <td>2022-05-30</td>\n",
       "      <td>-9999</td>\n",
       "    </tr>\n",
       "    <tr>\n",
       "      <th>59320</th>\n",
       "      <td>2022-05-31</td>\n",
       "      <td>-9999</td>\n",
       "    </tr>\n",
       "  </tbody>\n",
       "</table>\n",
       "<p>59321 rows × 2 columns</p>\n",
       "</div>"
      ],
      "text/plain": [
       "            DATE    TG\n",
       "0     1860-01-01    21\n",
       "1     1860-01-02    46\n",
       "2     1860-01-03    31\n",
       "3     1860-01-04    37\n",
       "4     1860-01-05    31\n",
       "...          ...   ...\n",
       "59316 2022-05-27 -9999\n",
       "59317 2022-05-28 -9999\n",
       "59318 2022-05-29 -9999\n",
       "59319 2022-05-30 -9999\n",
       "59320 2022-05-31 -9999\n",
       "\n",
       "[59321 rows x 2 columns]"
      ]
     },
     "execution_count": 13,
     "metadata": {},
     "output_type": "execute_result"
    }
   ],
   "source": [
    "df[['    DATE','   TG']]"
   ]
  },
  {
   "cell_type": "code",
   "execution_count": null,
   "id": "58394e15-42e4-49d2-b3ae-c1e5622c4d50",
   "metadata": {},
   "outputs": [],
   "source": [
    "#Simple statistics & filtering"
   ]
  },
  {
   "cell_type": "code",
   "execution_count": 20,
   "id": "fe0bb11c-3261-4bec-bf58-ec572e996dec",
   "metadata": {},
   "outputs": [
    {
     "data": {
      "text/plain": [
       "6.360787526128467"
      ]
     },
     "execution_count": 20,
     "metadata": {},
     "output_type": "execute_result"
    }
   ],
   "source": [
    "df.loc[df['   TG'] != -9999]['   TG'].mean() / 10"
   ]
  },
  {
   "cell_type": "code",
   "execution_count": 21,
   "id": "7fa66364-0b30-4b4a-90c8-41471867c30e",
   "metadata": {},
   "outputs": [
    {
     "data": {
      "text/plain": [
       "26.2"
      ]
     },
     "execution_count": 21,
     "metadata": {},
     "output_type": "execute_result"
    }
   ],
   "source": [
    "df.loc[df['   TG'] != -9999]['   TG'].max() / 10"
   ]
  },
  {
   "cell_type": "code",
   "execution_count": 22,
   "id": "ba27902f-b284-4e41-b395-a54b46be5b96",
   "metadata": {},
   "outputs": [
    {
     "data": {
      "text/plain": [
       "-28.8"
      ]
     },
     "execution_count": 22,
     "metadata": {},
     "output_type": "execute_result"
    }
   ],
   "source": [
    "df.loc[df['   TG'] != -9999]['   TG'].min() / 10"
   ]
  },
  {
   "cell_type": "code",
   "execution_count": 24,
   "id": "a794d9e8-b8b8-4b6e-8663-91b33e1d66b5",
   "metadata": {},
   "outputs": [
    {
     "data": {
      "text/plain": [
       "<Axes: >"
      ]
     },
     "execution_count": 24,
     "metadata": {},
     "output_type": "execute_result"
    },
    {
     "data": {
      "image/png": "[encoded data removed]",
      "text/plain": [
       "<Figure size 640x480 with 1 Axes>"
      ]
     },
     "metadata": {},
     "output_type": "display_data"
    }
   ],
   "source": [
    "df.loc[df['   TG'] != -9999]['   TG'].hist()"
   ]
  },
  {
   "cell_type": "code",
   "execution_count": null,
   "id": "54983c0d-ccdd-4557-bbf4-9b4eb82959c9",
   "metadata": {},
   "outputs": [],
   "source": [
    "#Get certain cells"
   ]
  },
  {
   "cell_type": "code",
   "execution_count": 25,
   "id": "6160bfb1-06ca-48a5-8bd8-aa8531bee8b0",
   "metadata": {
    "editable": true,
    "slideshow": {
     "slide_type": ""
    },
    "tags": []
   },
   "outputs": [
    {
     "data": {
      "text/html": [
       "<div>\n",
       "<style scoped>\n",
       "    .dataframe tbody tr th:only-of-type {\n",
       "        vertical-align: middle;\n",
       "    }\n",
       "\n",
       "    .dataframe tbody tr th {\n",
       "        vertical-align: top;\n",
       "    }\n",
       "\n",
       "    .dataframe thead th {\n",
       "        text-align: right;\n",
       "    }\n",
       "</style>\n",
       "<table border=\"1\" class=\"dataframe\">\n",
       "  <thead>\n",
       "    <tr style=\"text-align: right;\">\n",
       "      <th></th>\n",
       "      <th>STAID</th>\n",
       "      <th>SOUID</th>\n",
       "      <th>DATE</th>\n",
       "      <th>TG</th>\n",
       "      <th>Q_TG</th>\n",
       "    </tr>\n",
       "  </thead>\n",
       "  <tbody>\n",
       "    <tr>\n",
       "      <th>3</th>\n",
       "      <td>1</td>\n",
       "      <td>35381</td>\n",
       "      <td>1860-01-04</td>\n",
       "      <td>37</td>\n",
       "      <td>0</td>\n",
       "    </tr>\n",
       "  </tbody>\n",
       "</table>\n",
       "</div>"
      ],
      "text/plain": [
       "   STAID   SOUID       DATE     TG   Q_TG\n",
       "3      1   35381 1860-01-04     37      0"
      ]
     },
     "execution_count": 25,
     "metadata": {},
     "output_type": "execute_result"
    }
   ],
   "source": [
    "df.loc[df['    DATE'] == '1860-01-04']"
   ]
  },
  {
   "cell_type": "code",
   "execution_count": 28,
   "id": "09a0fe6f-255c-4ae0-83bf-bd79e7860008",
   "metadata": {},
   "outputs": [
    {
     "data": {
      "text/plain": [
       "3.7"
      ]
     },
     "execution_count": 28,
     "metadata": {},
     "output_type": "execute_result"
    }
   ],
   "source": [
    "df.loc[df['    DATE'] == '1860-01-04']['   TG'].squeeze() / 10"
   ]
  },
  {
   "cell_type": "code",
   "execution_count": 31,
   "id": "0f1f889f-f3c1-4160-a5de-00b546975153",
   "metadata": {},
   "outputs": [
    {
     "data": {
      "text/plain": [
       "Timestamp('1868-08-16 00:00:00')"
      ]
     },
     "execution_count": 31,
     "metadata": {},
     "output_type": "execute_result"
    }
   ],
   "source": [
    "df.loc[df['   TG'] == df['   TG'].max()]['    DATE'].squeeze()"
   ]
  },
  {
   "cell_type": "code",
   "execution_count": 41,
   "id": "887a85f1-a532-4312-8c4c-5b255db3749e",
   "metadata": {},
   "outputs": [],
   "source": [
    "df['TG'] = df.loc[df['   TG'] != -9999]['   TG'] / 10"
   ]
  },
  {
   "cell_type": "code",
   "execution_count": 42,
   "id": "8c588f3e-1aeb-42db-8896-80cb22eadaca",
   "metadata": {},
   "outputs": [
    {
     "data": {
      "text/html": [
       "<div>\n",
       "<style scoped>\n",
       "    .dataframe tbody tr th:only-of-type {\n",
       "        vertical-align: middle;\n",
       "    }\n",
       "\n",
       "    .dataframe tbody tr th {\n",
       "        vertical-align: top;\n",
       "    }\n",
       "\n",
       "    .dataframe thead th {\n",
       "        text-align: right;\n",
       "    }\n",
       "</style>\n",
       "<table border=\"1\" class=\"dataframe\">\n",
       "  <thead>\n",
       "    <tr style=\"text-align: right;\">\n",
       "      <th></th>\n",
       "      <th>STAID</th>\n",
       "      <th>SOUID</th>\n",
       "      <th>DATE</th>\n",
       "      <th>TG</th>\n",
       "      <th>Q_TG</th>\n",
       "      <th>TG</th>\n",
       "    </tr>\n",
       "  </thead>\n",
       "  <tbody>\n",
       "    <tr>\n",
       "      <th>0</th>\n",
       "      <td>1</td>\n",
       "      <td>35381</td>\n",
       "      <td>1860-01-01</td>\n",
       "      <td>21</td>\n",
       "      <td>0</td>\n",
       "      <td>2.1</td>\n",
       "    </tr>\n",
       "    <tr>\n",
       "      <th>1</th>\n",
       "      <td>1</td>\n",
       "      <td>35381</td>\n",
       "      <td>1860-01-02</td>\n",
       "      <td>46</td>\n",
       "      <td>0</td>\n",
       "      <td>4.6</td>\n",
       "    </tr>\n",
       "    <tr>\n",
       "      <th>2</th>\n",
       "      <td>1</td>\n",
       "      <td>35381</td>\n",
       "      <td>1860-01-03</td>\n",
       "      <td>31</td>\n",
       "      <td>0</td>\n",
       "      <td>3.1</td>\n",
       "    </tr>\n",
       "    <tr>\n",
       "      <th>3</th>\n",
       "      <td>1</td>\n",
       "      <td>35381</td>\n",
       "      <td>1860-01-04</td>\n",
       "      <td>37</td>\n",
       "      <td>0</td>\n",
       "      <td>3.7</td>\n",
       "    </tr>\n",
       "    <tr>\n",
       "      <th>4</th>\n",
       "      <td>1</td>\n",
       "      <td>35381</td>\n",
       "      <td>1860-01-05</td>\n",
       "      <td>31</td>\n",
       "      <td>0</td>\n",
       "      <td>3.1</td>\n",
       "    </tr>\n",
       "    <tr>\n",
       "      <th>...</th>\n",
       "      <td>...</td>\n",
       "      <td>...</td>\n",
       "      <td>...</td>\n",
       "      <td>...</td>\n",
       "      <td>...</td>\n",
       "      <td>...</td>\n",
       "    </tr>\n",
       "    <tr>\n",
       "      <th>59316</th>\n",
       "      <td>1</td>\n",
       "      <td>35381</td>\n",
       "      <td>2022-05-27</td>\n",
       "      <td>-9999</td>\n",
       "      <td>9</td>\n",
       "      <td>NaN</td>\n",
       "    </tr>\n",
       "    <tr>\n",
       "      <th>59317</th>\n",
       "      <td>1</td>\n",
       "      <td>35381</td>\n",
       "      <td>2022-05-28</td>\n",
       "      <td>-9999</td>\n",
       "      <td>9</td>\n",
       "      <td>NaN</td>\n",
       "    </tr>\n",
       "    <tr>\n",
       "      <th>59318</th>\n",
       "      <td>1</td>\n",
       "      <td>35381</td>\n",
       "      <td>2022-05-29</td>\n",
       "      <td>-9999</td>\n",
       "      <td>9</td>\n",
       "      <td>NaN</td>\n",
       "    </tr>\n",
       "    <tr>\n",
       "      <th>59319</th>\n",
       "      <td>1</td>\n",
       "      <td>35381</td>\n",
       "      <td>2022-05-30</td>\n",
       "      <td>-9999</td>\n",
       "      <td>9</td>\n",
       "      <td>NaN</td>\n",
       "    </tr>\n",
       "    <tr>\n",
       "      <th>59320</th>\n",
       "      <td>1</td>\n",
       "      <td>35381</td>\n",
       "      <td>2022-05-31</td>\n",
       "      <td>-9999</td>\n",
       "      <td>9</td>\n",
       "      <td>NaN</td>\n",
       "    </tr>\n",
       "  </tbody>\n",
       "</table>\n",
       "<p>59321 rows × 6 columns</p>\n",
       "</div>"
      ],
      "text/plain": [
       "       STAID   SOUID       DATE     TG   Q_TG   TG\n",
       "0          1   35381 1860-01-01     21      0  2.1\n",
       "1          1   35381 1860-01-02     46      0  4.6\n",
       "2          1   35381 1860-01-03     31      0  3.1\n",
       "3          1   35381 1860-01-04     37      0  3.7\n",
       "4          1   35381 1860-01-05     31      0  3.1\n",
       "...      ...     ...        ...    ...    ...  ...\n",
       "59316      1   35381 2022-05-27  -9999      9  NaN\n",
       "59317      1   35381 2022-05-28  -9999      9  NaN\n",
       "59318      1   35381 2022-05-29  -9999      9  NaN\n",
       "59319      1   35381 2022-05-30  -9999      9  NaN\n",
       "59320      1   35381 2022-05-31  -9999      9  NaN\n",
       "\n",
       "[59321 rows x 6 columns]"
      ]
     },
     "execution_count": 42,
     "metadata": {},
     "output_type": "execute_result"
    }
   ],
   "source": [
    "df"
   ]
  },
  {
   "cell_type": "code",
   "execution_count": null,
   "id": "56aa3ee1-864f-45c2-9f66-67361eb65350",
   "metadata": {},
   "outputs": [],
   "source": [
    "#Plotting"
   ]
  },
  {
   "cell_type": "code",
   "execution_count": 45,
   "id": "f42dafd1-cd67-40a2-8bc8-7f43d427c8dc",
   "metadata": {},
   "outputs": [
    {
     "data": {
      "text/plain": [
       "<Axes: xlabel='    DATE'>"
      ]
     },
     "execution_count": 45,
     "metadata": {},
     "output_type": "execute_result"
    },
    {
     "data": {
      "image/png": "[encoded data removed]",
      "text/plain": [
       "<Figure size 1000x300 with 1 Axes>"
      ]
     },
     "metadata": {},
     "output_type": "display_data"
    }
   ],
   "source": [
    "df[100:2000].plot(x=\"    DATE\", y=\"TG\", figsize=(10,3))"
   ]
  },
  {
   "cell_type": "code",
   "execution_count": null,
   "id": "cf80b6a8-58aa-4695-80a6-515612d01d96",
   "metadata": {
    "editable": true,
    "slideshow": {
     "slide_type": ""
    },
    "tags": []
   },
   "outputs": [],
   "source": []
  }
 ],
 "metadata": {
  "kernelspec": {
   "display_name": "Python 3 (ipykernel)",
   "language": "python",
   "name": "python3"
  },
  "language_info": {
   "codemirror_mode": {
    "name": "ipython",
    "version": 3
   },
   "file_extension": ".py",
   "mimetype": "text/x-python",
   "name": "python",
   "nbconvert_exporter": "python",
   "pygments_lexer": "ipython3",
   "version": "3.11.7"
  }
 },
 "nbformat": 4,
 "nbformat_minor": 5
}
